{
 "cells": [
  {
   "cell_type": "markdown",
   "id": "b50c0c6a",
   "metadata": {},
   "source": [
    "# Data Science Tools and Ecosystem"
   ]
  },
  {
   "cell_type": "markdown",
   "id": "610e304a",
   "metadata": {},
   "source": [
    "## Introduction\n",
    "\n",
    "In  this notebook, Data Science Tools and Ecosystem are summarized."
   ]
  },
  {
   "cell_type": "markdown",
   "id": "647b14f8",
   "metadata": {},
   "source": [
    " ## Objectives:\n",
    " Popular languages for Data Science.\n",
    " \n",
    " Commoly used libraries.\n",
    " \n",
    " Data Science tools.\n",
    " \n",
    " Arithmetic evaluation."
   ]
  },
  {
   "cell_type": "markdown",
   "id": "95e78453",
   "metadata": {},
   "source": [
    "#### Data Science Languages"
   ]
  },
  {
   "cell_type": "markdown",
   "id": "267ee9a7",
   "metadata": {},
   "source": [
    "Some of the popular languages that Data Scientists use are:\n",
    "1. Python\n",
    "2. R\n",
    "3. SQL\n",
    "4. Julia\n",
    "5. Java\n",
    "6. Scala\n",
    "7. MATLAB"
   ]
  },
  {
   "cell_type": "markdown",
   "id": "e318f69b",
   "metadata": {},
   "source": [
    "#### Data Science Libraries"
   ]
  },
  {
   "cell_type": "markdown",
   "id": "9d5009b4",
   "metadata": {},
   "source": [
    "Some of the commonly used libraries used by Data Scientists include:\n",
    "1. Pandas\n",
    "2. Numpy\n",
    "3. Matplotlib\n",
    "4. Scikit-Learn\n",
    "5. TensorFlow\n",
    "6. Seaborn\n",
    "7. caret\n",
    "8. ggplot"
   ]
  },
  {
   "cell_type": "markdown",
   "id": "3b5f9b81",
   "metadata": {},
   "source": [
    "#### Data Science Tools"
   ]
  },
  {
   "cell_type": "markdown",
   "id": "48a3a6e7",
   "metadata": {},
   "source": [
    "| Data Science Tools |\n",
    "|--------------------|\n",
    "|Jupyter notebook |\n",
    "| JupyterLite|\n",
    "| GoogleColab |"
   ]
  },
  {
   "cell_type": "markdown",
   "id": "667aca0d",
   "metadata": {},
   "source": [
    "### Below are a few examples of evaluating arithmetic expressions in python"
   ]
  },
  {
   "cell_type": "code",
   "execution_count": 7,
   "id": "f598cfdd",
   "metadata": {},
   "outputs": [
    {
     "data": {
      "text/plain": [
       "17"
      ]
     },
     "execution_count": 7,
     "metadata": {},
     "output_type": "execute_result"
    }
   ],
   "source": [
    "# This is a simple arithmetic expression to multiply then add integers.\n",
    "\n",
    "(3*4)+5"
   ]
  },
  {
   "cell_type": "markdown",
   "id": "de5e278c",
   "metadata": {},
   "source": [
    " #### Convert minutes to hours"
   ]
  },
  {
   "cell_type": "code",
   "execution_count": 8,
   "id": "40ddbe9a",
   "metadata": {},
   "outputs": [
    {
     "name": "stdout",
     "output_type": "stream",
     "text": [
      "3.3333333333333335\n"
     ]
    }
   ],
   "source": [
    "# This will convert 200 minutes to hours by dividing by 60\n",
    "\n",
    "hours = 200/60\n",
    "print(hours)"
   ]
  },
  {
   "cell_type": "markdown",
   "id": "09b59d68",
   "metadata": {},
   "source": [
    "## Author:\n",
    "Stephen O. Alabi"
   ]
  }
 ],
 "metadata": {
  "kernelspec": {
   "display_name": "Python 3 (ipykernel)",
   "language": "python",
   "name": "python3"
  },
  "language_info": {
   "codemirror_mode": {
    "name": "ipython",
    "version": 3
   },
   "file_extension": ".py",
   "mimetype": "text/x-python",
   "name": "python",
   "nbconvert_exporter": "python",
   "pygments_lexer": "ipython3",
   "version": "3.11.5"
  }
 },
 "nbformat": 4,
 "nbformat_minor": 5
}
